{
 "cells": [
  {
   "cell_type": "markdown",
   "metadata": {},
   "source": [
    "# Recipe 1-2. Collecting Data from PDFs\n",
    "Most of the time your data will be stored as PDF files. We need to extract\n",
    "text from these files and store it for further analysis.\n",
    "\n",
    "Install and import all the necessary libraries"
   ]
  },
  {
   "cell_type": "code",
   "execution_count": 2,
   "metadata": {},
   "outputs": [],
   "source": [
    "#!pip install PyPDF2\n",
    "import PyPDF2\n",
    "from PyPDF2 import PdfFileReader"
   ]
  },
  {
   "cell_type": "markdown",
   "metadata": {},
   "source": [
    "The BBI 2010 - Combinatory Dictionary of English"
   ]
  },
  {
   "cell_type": "code",
   "execution_count": 13,
   "metadata": {},
   "outputs": [],
   "source": [
    "pdf = open(\"C:\\\\Leo\\\\NLP\\\\rapiña\\\\The BBI 2010 - Combinatory Dictionary of English.pdf\",\"rb\")\n",
    "pdf_reader = PyPDF2.PdfFileReader(pdf)"
   ]
  },
  {
   "cell_type": "markdown",
   "metadata": {},
   "source": [
    "checking number of pages in a pdf file"
   ]
  },
  {
   "cell_type": "code",
   "execution_count": 14,
   "metadata": {},
   "outputs": [
    {
     "data": {
      "text/plain": [
       "567"
      ]
     },
     "execution_count": 14,
     "metadata": {},
     "output_type": "execute_result"
    }
   ],
   "source": [
    "pdf_reader.numPages"
   ]
  },
  {
   "cell_type": "markdown",
   "metadata": {},
   "source": [
    "Reading sample page, first 500 characters"
   ]
  },
  {
   "cell_type": "code",
   "execution_count": 16,
   "metadata": {},
   "outputs": [
    {
     "data": {
      "text/plain": [
       "'carte blanche\\n cast IIŒŒtruck) 4. a shopping ~ (AE\\n ; BE has \\ntrolley) 5. (misc.) to put the ~ before the horse (ﬁto do in the \\nwrong orderﬂ) (see also apple cart)carte blanche\\n n.\\n 1. to give smb. ~ \\n2. to get, have ~ \\n3. ~ to + inf. (she gave him ~ to invest her money)cartel n.\\n 1. to form a ~ \\n2. to break up a ~ \\n3. a drug \\n(CE), drugs (BE)\\n ; international, multinational\\n ; oil ~cartilage n. (a) torn ~\\ncart off v. (D ; tr.) to ~ to (they ~ed him off to jail)cartoon n.\\n 1. to draw a ~ \\n2. an '"
      ]
     },
     "execution_count": 16,
     "metadata": {},
     "output_type": "execute_result"
    }
   ],
   "source": [
    "page = pdf_reader.getPage(101) #it's actually 59 (102 of 567)\n",
    "page.extractText()[0:500]"
   ]
  },
  {
   "cell_type": "code",
   "execution_count": 17,
   "metadata": {},
   "outputs": [
    {
     "name": "stdout",
     "output_type": "stream",
     "text": [
      "carte blanche\n",
      " cast IIŒŒtruck) 4. a shopping ~ (AE\n",
      " ; BE has \n",
      "trolley) 5. (misc.) to put the ~ before the horse (ﬁto do in the \n",
      "wrong orderﬂ) (see also apple cart)carte blanche\n",
      " n.\n",
      " 1. to give smb. ~ \n",
      "2. to get, have ~ \n",
      "3. ~ to + inf. (she gave him ~ to invest her money)cartel n.\n",
      " 1. to form a ~ \n",
      "2. to break up a ~ \n",
      "3. a drug \n",
      "(CE), drugs (BE)\n",
      " ; international, multinational\n",
      " ; oil ~cartilage n. (a) torn ~\n",
      "cart off v. (D ; tr.) to ~ to (they ~ed him off to jail)cartoon n.\n",
      " 1. to draw a ~ \n",
      "2. an \n"
     ]
    }
   ],
   "source": [
    "print(page.extractText()[0:500])"
   ]
  },
  {
   "cell_type": "code",
   "execution_count": 18,
   "metadata": {},
   "outputs": [],
   "source": [
    "pdf.close()"
   ]
  },
  {
   "cell_type": "markdown",
   "metadata": {},
   "source": [
    "Comparing with [PowerGREP](https://www.powergrep.com/)"
   ]
  },
  {
   "cell_type": "code",
   "execution_count": 34,
   "metadata": {
    "scrolled": true
   },
   "outputs": [],
   "source": [
    "file = \"C:\\\\Leo\\\\NLP\\\\rapiña\\\\The BBI 2010 - Combinatory Dictionary of English (powerGrep).txt\"\n",
    "txt = []\n",
    "with open(file, encoding=\"utf8\") as f:\n",
    "    for line in f:\n",
    "        txt.append(line)"
   ]
  },
  {
   "cell_type": "code",
   "execution_count": 36,
   "metadata": {},
   "outputs": [
    {
     "name": "stdout",
     "output_type": "stream",
     "text": [
      "\f",
      "carte blanche\b                                              cast II\n",
      "\n",
      "\n",
      "\n",
      " truck) 4. a shopping ~ (AE ; BE has trolley) 5.             in any ~ ; in ~ of emergency) 29. (misc.) to be the\n",
      "\n",
      "\n",
      "\n",
      " (misc.) to put the ~ before the horse (“to do in the        ~ (“to be so”) ; a ~ in point (“a pertinent case”)\n",
      "\n",
      " wrong order”) (see also apple cart)                         [“inflectional form”] 30. to govern, take a ~ (certain\n",
      "\n",
      "carte blanche n. 1. to give smb. ~ 2. to get, have ~ 3.      Russian verbs take the dative ~) 31. the ablative ;\n",
      "\n",
      "\n",
      "\n",
      " ~ to + inf. (she gave him ~ to invest her money)            accusative ; dative ; genitive ; instrumental ; loca-\n",
      "\n",
      "cartel n. 1. to form a ~ 2. to break up a ~ 3. a drug\n",
      "\n",
      "                                                             tive ; nominative ; oblique ; prepositional ; vocative\n",
      "\n"
     ]
    }
   ],
   "source": [
    "for x in txt[7299:7310]: print(x)"
   ]
  },
  {
   "cell_type": "code",
   "execution_count": null,
   "metadata": {},
   "outputs": [],
   "source": []
  }
 ],
 "metadata": {
  "kernelspec": {
   "display_name": "Python 3",
   "language": "python",
   "name": "python3"
  },
  "language_info": {
   "codemirror_mode": {
    "name": "ipython",
    "version": 3
   },
   "file_extension": ".py",
   "mimetype": "text/x-python",
   "name": "python",
   "nbconvert_exporter": "python",
   "pygments_lexer": "ipython3",
   "version": "3.7.3"
  }
 },
 "nbformat": 4,
 "nbformat_minor": 2
}
