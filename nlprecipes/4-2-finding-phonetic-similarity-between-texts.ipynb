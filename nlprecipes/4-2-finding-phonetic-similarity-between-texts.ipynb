{
 "cells": [
  {
   "cell_type": "markdown",
   "metadata": {},
   "source": [
    "# Recipe 4-2. Finding (Phonetic) Similarity Between Texts\n",
    "Phonetic matching, roughly matches the two words or sentences and also creates an alphanumeric string as an encoded version of the text or word.\n",
    "\n",
    "Microsoft Visual C++ 14.0 is required. Get it with \"*Microsoft Visual C++ Build Tools*\": https://visualstudio.microsoft.com/downloads/"
   ]
  },
  {
   "cell_type": "code",
   "execution_count": 3,
   "metadata": {},
   "outputs": [
    {
     "name": "stdout",
     "output_type": "stream",
     "text": [
      "Collecting fuzzy\n",
      "  Using cached https://files.pythonhosted.org/packages/ad/b0/210f790e81e3c9f86a740f5384c758ad6c7bc1958332cf64263a9d3cf336/Fuzzy-1.2.2.tar.gz\n",
      "Building wheels for collected packages: fuzzy\n",
      "  Building wheel for fuzzy (setup.py): started\n",
      "  Building wheel for fuzzy (setup.py): finished with status 'error'\n",
      "  Complete output from command C:\\Users\\usuario\\Anaconda3\\python.exe -u -c \"import setuptools, tokenize;__file__='C:\\\\Users\\\\usuario\\\\AppData\\\\Local\\\\Temp\\\\pip-install-zmb29twc\\\\fuzzy\\\\setup.py';f=getattr(tokenize, 'open', open)(__file__);code=f.read().replace('\\r\\n', '\\n');f.close();exec(compile(code, __file__, 'exec'))\" bdist_wheel -d C:\\Users\\usuario\\AppData\\Local\\Temp\\pip-wheel-njp9egvt --python-tag cp37:\n",
      "  running bdist_wheel\n",
      "  running build\n",
      "  running build_ext\n",
      "  cythoning src/fuzzy.pyx to src\\fuzzy.c\n",
      "  C:\\Users\\usuario\\Anaconda3\\lib\\site-packages\\Cython\\Compiler\\Main.py:367: FutureWarning: Cython directive 'language_level' not set, using 2 for now (Py2). This will change in a later release! File: C:\\Users\\usuario\\AppData\\Local\\Temp\\pip-install-zmb29twc\\fuzzy\\src\\fuzzy.pyx\n",
      "    tree = Parsing.p_module(s, pxd, full_module_name)\n",
      "  building 'fuzzy' extension\n",
      "  error: Microsoft Visual C++ 14.0 is required. Get it with \"Microsoft Visual C++ Build Tools\": https://visualstudio.microsoft.com/downloads/\n",
      "  \n",
      "  ----------------------------------------\n",
      "  Running setup.py clean for fuzzy\n",
      "Failed to build fuzzy\n",
      "Installing collected packages: fuzzy\n",
      "  Running setup.py install for fuzzy: started\n",
      "    Running setup.py install for fuzzy: finished with status 'error'\n",
      "    Complete output from command C:\\Users\\usuario\\Anaconda3\\python.exe -u -c \"import setuptools, tokenize;__file__='C:\\\\Users\\\\usuario\\\\AppData\\\\Local\\\\Temp\\\\pip-install-zmb29twc\\\\fuzzy\\\\setup.py';f=getattr(tokenize, 'open', open)(__file__);code=f.read().replace('\\r\\n', '\\n');f.close();exec(compile(code, __file__, 'exec'))\" install --record C:\\Users\\usuario\\AppData\\Local\\Temp\\pip-record-pg_a0zk5\\install-record.txt --single-version-externally-managed --compile:\n",
      "    running install\n",
      "    running build\n",
      "    running build_ext\n",
      "    cythoning src/fuzzy.pyx to src\\fuzzy.c\n",
      "    C:\\Users\\usuario\\Anaconda3\\lib\\site-packages\\Cython\\Compiler\\Main.py:367: FutureWarning: Cython directive 'language_level' not set, using 2 for now (Py2). This will change in a later release! File: C:\\Users\\usuario\\AppData\\Local\\Temp\\pip-install-zmb29twc\\fuzzy\\src\\fuzzy.pyx\n",
      "      tree = Parsing.p_module(s, pxd, full_module_name)\n",
      "    building 'fuzzy' extension\n",
      "    error: Microsoft Visual C++ 14.0 is required. Get it with \"Microsoft Visual C++ Build Tools\": https://visualstudio.microsoft.com/downloads/\n",
      "    \n",
      "    ----------------------------------------\n"
     ]
    },
    {
     "name": "stderr",
     "output_type": "stream",
     "text": [
      "  Failed building wheel for fuzzy\n",
      "Command \"C:\\Users\\usuario\\Anaconda3\\python.exe -u -c \"import setuptools, tokenize;__file__='C:\\\\Users\\\\usuario\\\\AppData\\\\Local\\\\Temp\\\\pip-install-zmb29twc\\\\fuzzy\\\\setup.py';f=getattr(tokenize, 'open', open)(__file__);code=f.read().replace('\\r\\n', '\\n');f.close();exec(compile(code, __file__, 'exec'))\" install --record C:\\Users\\usuario\\AppData\\Local\\Temp\\pip-record-pg_a0zk5\\install-record.txt --single-version-externally-managed --compile\" failed with error code 1 in C:\\Users\\usuario\\AppData\\Local\\Temp\\pip-install-zmb29twc\\fuzzy\\\n"
     ]
    }
   ],
   "source": [
    "!pip install fuzzy\n",
    "import fuzzy"
   ]
  },
  {
   "cell_type": "markdown",
   "metadata": {},
   "source": [
    "Run the Soundex function"
   ]
  },
  {
   "cell_type": "code",
   "execution_count": null,
   "metadata": {},
   "outputs": [],
   "source": [
    "soundex = fuzzy.Soundex(4)"
   ]
  },
  {
   "cell_type": "code",
   "execution_count": null,
   "metadata": {},
   "outputs": [],
   "source": [
    "soundex('natural')"
   ]
  }
 ],
 "metadata": {
  "kernelspec": {
   "display_name": "Python 3",
   "language": "python",
   "name": "python3"
  },
  "language_info": {
   "codemirror_mode": {
    "name": "ipython",
    "version": 3
   },
   "file_extension": ".py",
   "mimetype": "text/x-python",
   "name": "python",
   "nbconvert_exporter": "python",
   "pygments_lexer": "ipython3",
   "version": "3.7.3"
  }
 },
 "nbformat": 4,
 "nbformat_minor": 2
}
