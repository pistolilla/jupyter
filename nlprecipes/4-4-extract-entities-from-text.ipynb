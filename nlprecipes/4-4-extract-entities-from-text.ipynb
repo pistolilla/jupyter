{
 "cells": [
  {
   "cell_type": "markdown",
   "metadata": {},
   "source": [
    "# Recipe 4-4. Extract Entities from Text\n",
    "The simplest way to do this is by using the ne_chunk from NLTK or SpaCy\n",
    "### Using NLTK"
   ]
  },
  {
   "cell_type": "code",
   "execution_count": 1,
   "metadata": {},
   "outputs": [],
   "source": [
    "import nltk\n",
    "#nltk.download('maxent_ne_chunker')\n",
    "from nltk import ne_chunk\n",
    "#nltk.download('words')\n",
    "#nltk.download('punkt')\n",
    "#nltk.download('averaged_perceptron_tagger')\n",
    "from nltk import word_tokenize"
   ]
  },
  {
   "cell_type": "markdown",
   "metadata": {},
   "source": [
    "This should be appear next:\n",
    "* \"John\" is tagged as \"PERSON\"\n",
    "* \"Stanford\" as \"ORGANIZATION\"\n",
    "* \"California\" as \"GPE\" (Geopolitical entity, i.e. countries, cities, states)"
   ]
  },
  {
   "cell_type": "code",
   "execution_count": 8,
   "metadata": {},
   "outputs": [
    {
     "data": {
      "text/plain": [
       "\"Tree('S', [Tree('PERSON', [('John', 'NNP')]), ('is', 'VBZ'), ('studying', 'VBG'), ('at', 'IN'), Tree('ORGANIZATION', [('Stanford', 'NNP'), ('University', 'NNP')]), ('in', 'IN'), Tree('GPE', [('California', 'NNP')])])\""
      ]
     },
     "execution_count": 8,
     "metadata": {},
     "output_type": "execute_result"
    }
   ],
   "source": [
    "sent = \"John is studying at Stanford University in California\"\n",
    "entities = ne_chunk(nltk.pos_tag(word_tokenize(sent)), binary=False)\n",
    "entities.__repr__()"
   ]
  },
  {
   "cell_type": "markdown",
   "metadata": {},
   "source": [
    "### Render tree with Ghostscript: \n",
    "First, download from https://www.ghostscript.com/download"
   ]
  },
  {
   "cell_type": "code",
   "execution_count": 15,
   "metadata": {},
   "outputs": [],
   "source": [
    "import os\n",
    "path_to_gs = \"C:\\Program Files\\gs\\gs9.27\\bin\"\n",
    "os.environ['PATH'] += os.pathsep + path_to_gs\n",
    "#entities._repr_png_() # not working :("
   ]
  },
  {
   "cell_type": "markdown",
   "metadata": {},
   "source": [
    "### Using SpaCy\n",
    "How to install SpaCy and load EN package (without dying in the attempt):\n",
    "1. With Anaconda create a new environment named python37, and install numpy and spacy\n",
    "1. Open a terminal and navigate to folder 'Anaconda3/Scripts'\n",
    "1. Run ```activate python37``` \n",
    "1. Run ```cd ..```\n",
    "1. Run ```python -m spacy download en```\n",
    "\n",
    "These are some commands that might not work:\n",
    "* ```pip install spacy```\n",
    "* ```pip install -U spacy```\n",
    "* ```conda install -c conda-forge spacy```"
   ]
  },
  {
   "cell_type": "code",
   "execution_count": 18,
   "metadata": {},
   "outputs": [],
   "source": [
    "import spacy\n",
    "nlp = spacy.load('en')"
   ]
  },
  {
   "cell_type": "markdown",
   "metadata": {},
   "source": [
    "Let's see the difference"
   ]
  },
  {
   "cell_type": "code",
   "execution_count": 20,
   "metadata": {},
   "outputs": [
    {
     "name": "stdout",
     "output_type": "stream",
     "text": [
      "John 0 4 PERSON\n",
      "Stanford University 20 39 ORG\n",
      "California 43 53 GPE\n"
     ]
    }
   ],
   "source": [
    "doc = nlp(u'John is studying at Stanford University in California')\n",
    "for ent in doc.ents:\n",
    "    print(ent.text, ent.start_char, ent.end_char, ent.label_)"
   ]
  },
  {
   "cell_type": "code",
   "execution_count": null,
   "metadata": {},
   "outputs": [],
   "source": []
  }
 ],
 "metadata": {
  "kernelspec": {
   "display_name": "Python 3",
   "language": "python",
   "name": "python3"
  },
  "language_info": {
   "codemirror_mode": {
    "name": "ipython",
    "version": 3
   },
   "file_extension": ".py",
   "mimetype": "text/x-python",
   "name": "python",
   "nbconvert_exporter": "python",
   "pygments_lexer": "ipython3",
   "version": "3.7.3"
  }
 },
 "nbformat": 4,
 "nbformat_minor": 2
}
