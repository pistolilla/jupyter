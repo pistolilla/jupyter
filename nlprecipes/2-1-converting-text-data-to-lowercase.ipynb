{
 "cells": [
  {
   "cell_type": "markdown",
   "metadata": {},
   "outputs": [],
   "source": [
    "# Recipe 2-1. Converting Text Data to Lowercase\n",
    "In this recipe, we are going to discuss how to lowercase the text data in\n",
    "order to have all the data in a uniform format and to make sure “NLP” and\n",
    "“nlp” are treated as the same."
   ]
  },
  {
   "cell_type": "code",
   "execution_count": 1,
   "metadata": {},
   "outputs": [],
   "source": [
    "import pandas as pd"
   ]
  },
  {
   "cell_type": "code",
   "execution_count": 2,
   "metadata": {},
   "outputs": [
    {
     "data": {
      "text/plain": "['This is introduction to NLP',\n 'It is likely to be useful, to people ',\n 'Machine learning is the new electrcity',\n 'There would be less hype around AI and more action going forward',\n 'python is the best tool!',\n 'R is good langauage',\n 'I like this book',\n 'I want more books like this']"
     },
     "execution_count": 2,
     "metadata": {},
     "output_type": "execute_result"
    }
   ],
   "source": [
    "text = ['This is introduction to NLP','It is likely to be useful, to people ','Machine learning is the new electrcity','There would be less hype around AI and more action going forward','python is the best tool!','R is good langauage','I like this book','I want more books like this']\n",
    "text"
   ]
  },
  {
   "cell_type": "markdown",
   "metadata": {},
   "outputs": [],
   "source": [
    "Convert list into dataframe"
   ]
  },
  {
   "cell_type": "code",
   "execution_count": 3,
   "metadata": {},
   "outputs": [
    {
     "data": {
      "text/html": "<div>\n<style scoped>\n    .dataframe tbody tr th:only-of-type {\n        vertical-align: middle;\n    }\n\n    .dataframe tbody tr th {\n        vertical-align: top;\n    }\n\n    .dataframe thead th {\n        text-align: right;\n    }\n</style>\n<table border=\"1\" class=\"dataframe\">\n  <thead>\n    <tr style=\"text-align: right;\">\n      <th></th>\n      <th>tweet</th>\n    </tr>\n  </thead>\n  <tbody>\n    <tr>\n      <th>0</th>\n      <td>This is introduction to NLP</td>\n    </tr>\n    <tr>\n      <th>1</th>\n      <td>It is likely to be useful, to people</td>\n    </tr>\n    <tr>\n      <th>2</th>\n      <td>Machine learning is the new electrcity</td>\n    </tr>\n    <tr>\n      <th>3</th>\n      <td>There would be less hype around AI and more ac...</td>\n    </tr>\n    <tr>\n      <th>4</th>\n      <td>python is the best tool!</td>\n    </tr>\n    <tr>\n      <th>5</th>\n      <td>R is good langauage</td>\n    </tr>\n    <tr>\n      <th>6</th>\n      <td>I like this book</td>\n    </tr>\n    <tr>\n      <th>7</th>\n      <td>I want more books like this</td>\n    </tr>\n  </tbody>\n</table>\n</div>",
      "text/plain": "                                               tweet\n0                        This is introduction to NLP\n1              It is likely to be useful, to people \n2             Machine learning is the new electrcity\n3  There would be less hype around AI and more ac...\n4                           python is the best tool!\n5                                R is good langauage\n6                                   I like this book\n7                        I want more books like this"
     },
     "execution_count": 3,
     "metadata": {},
     "output_type": "execute_result"
    }
   ],
   "source": [
    "df = pd.DataFrame({'tweet':text})\n",
    "df"
   ]
  },
  {
   "cell_type": "markdown",
   "metadata": {},
   "outputs": [],
   "source": [
    "Books's approach"
   ]
  },
  {
   "cell_type": "code",
   "execution_count": 4,
   "metadata": {},
   "outputs": [
    {
     "data": {
      "text/plain": "0                          this is introduction to nlp\n1                 it is likely to be useful, to people\n2               machine learning is the new electrcity\n3    there would be less hype around ai and more ac...\n4                             python is the best tool!\n5                                  r is good langauage\n6                                     i like this book\n7                          i want more books like this\nName: tweet, dtype: object"
     },
     "execution_count": 4,
     "metadata": {},
     "output_type": "execute_result"
    }
   ],
   "source": [
    "df['tweet'].apply(lambda x: \" \".join(x.lower() for x in x.split()))"
   ]
  },
  {
   "cell_type": "markdown",
   "metadata": {},
   "outputs": [],
   "source": [
    "Leo's approach"
   ]
  },
  {
   "cell_type": "code",
   "execution_count": 5,
   "metadata": {},
   "outputs": [
    {
     "data": {
      "text/html": "<div>\n<style scoped>\n    .dataframe tbody tr th:only-of-type {\n        vertical-align: middle;\n    }\n\n    .dataframe tbody tr th {\n        vertical-align: top;\n    }\n\n    .dataframe thead th {\n        text-align: right;\n    }\n</style>\n<table border=\"1\" class=\"dataframe\">\n  <thead>\n    <tr style=\"text-align: right;\">\n      <th></th>\n      <th>tweet</th>\n    </tr>\n  </thead>\n  <tbody>\n    <tr>\n      <th>0</th>\n      <td>this is introduction to nlp</td>\n    </tr>\n    <tr>\n      <th>1</th>\n      <td>it is likely to be useful, to people</td>\n    </tr>\n    <tr>\n      <th>2</th>\n      <td>machine learning is the new electrcity</td>\n    </tr>\n    <tr>\n      <th>3</th>\n      <td>there would be less hype around ai and more ac...</td>\n    </tr>\n    <tr>\n      <th>4</th>\n      <td>python is the best tool!</td>\n    </tr>\n    <tr>\n      <th>5</th>\n      <td>r is good langauage</td>\n    </tr>\n    <tr>\n      <th>6</th>\n      <td>i like this book</td>\n    </tr>\n    <tr>\n      <th>7</th>\n      <td>i want more books like this</td>\n    </tr>\n  </tbody>\n</table>\n</div>",
      "text/plain": "                                               tweet\n0                        this is introduction to nlp\n1              it is likely to be useful, to people \n2             machine learning is the new electrcity\n3  there would be less hype around ai and more ac...\n4                           python is the best tool!\n5                                r is good langauage\n6                                   i like this book\n7                        i want more books like this"
     },
     "execution_count": 5,
     "metadata": {},
     "output_type": "execute_result"
    }
   ],
   "source": [
    "pd.DataFrame(df['tweet'].apply(lambda x: x.lower()))"
   ]
  },
  {
   "cell_type": "markdown",
   "metadata": {},
   "outputs": [],
   "source": [
    "Even simpler approach"
   ]
  },
  {
   "cell_type": "code",
   "execution_count": 6,
   "metadata": {},
   "outputs": [
    {
     "data": {
      "text/plain": "0                          this is introduction to nlp\n1                it is likely to be useful, to people \n2               machine learning is the new electrcity\n3    there would be less hype around ai and more ac...\n4                             python is the best tool!\n5                                  r is good langauage\n6                                     i like this book\n7                          i want more books like this\nName: tweet, dtype: object"
     },
     "execution_count": 6,
     "metadata": {},
     "output_type": "execute_result"
    }
   ],
   "source": [
    "df['tweet'].str.lower()"
   ]
  },
  {
   "cell_type": "code",
   "execution_count": null,
   "metadata": {},
   "outputs": [],
   "source": []
  }
 ],
 "metadata": {
  "kernelspec": {
   "display_name": "Python 3",
   "language": "python",
   "name": "python3"
  },
  "language_info": {
   "codemirror_mode": {
    "name": "ipython",
    "version": 3
   },
   "file_extension": ".py",
   "mimetype": "text/x-python",
   "name": "python",
   "nbconvert_exporter": "python",
   "pygments_lexer": "ipython3",
   "version": "3.7.3"
  }
 },
 "nbformat": 4,
 "nbformat_minor": 2
}