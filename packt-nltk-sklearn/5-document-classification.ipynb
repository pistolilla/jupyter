{
 "cells": [
  {
   "cell_type": "code",
   "execution_count": 11,
   "metadata": {},
   "outputs": [],
   "source": [
    "from sklearn import datasets, model_selection, feature_extraction, naive_bayes, svm, pipeline, metrics\n",
    "import nltk"
   ]
  },
  {
   "cell_type": "markdown",
   "metadata": {},
   "source": [
    "Defining stop words list and tokenizing them"
   ]
  },
  {
   "cell_type": "code",
   "execution_count": 12,
   "metadata": {},
   "outputs": [
    {
     "data": {
      "text/plain": [
       "['all',\n",
       " 'while',\n",
       " \"n't\",\n",
       " 'having',\n",
       " 'the',\n",
       " 'doing',\n",
       " 'wouldn',\n",
       " 'itself',\n",
       " 'if',\n",
       " 'over',\n",
       " 'hers',\n",
       " 'than',\n",
       " \"'ll\",\n",
       " 'we',\n",
       " 'it']"
      ]
     },
     "execution_count": 12,
     "metadata": {},
     "output_type": "execute_result"
    }
   ],
   "source": [
    "stop_words = []\n",
    "for sw in nltk.corpus.stopwords.words('english'):\n",
    "    stop_words += nltk.word_tokenize(sw)\n",
    "stop_words = set(stop_words)\n",
    "list(stop_words)[:15]"
   ]
  },
  {
   "cell_type": "code",
   "execution_count": 13,
   "metadata": {},
   "outputs": [
    {
     "data": {
      "text/plain": [
       "['alt.atheism',\n",
       " 'comp.graphics',\n",
       " 'comp.os.ms-windows.misc',\n",
       " 'comp.sys.ibm.pc.hardware',\n",
       " 'comp.sys.mac.hardware',\n",
       " 'comp.windows.x',\n",
       " 'misc.forsale',\n",
       " 'rec.autos',\n",
       " 'rec.motorcycles',\n",
       " 'rec.sport.baseball',\n",
       " 'rec.sport.hockey',\n",
       " 'sci.crypt',\n",
       " 'sci.electronics',\n",
       " 'sci.med',\n",
       " 'sci.space',\n",
       " 'soc.religion.christian',\n",
       " 'talk.politics.guns',\n",
       " 'talk.politics.mideast',\n",
       " 'talk.politics.misc',\n",
       " 'talk.religion.misc']"
      ]
     },
     "execution_count": 13,
     "metadata": {},
     "output_type": "execute_result"
    }
   ],
   "source": [
    "# dataset: http://qwone.com/~jason/20Newsgroups/\n",
    "news_data = datasets.load_files(\"../large_files/20_newsgroups\", shuffle=True, encoding='ISO-8859-1')\n",
    "news_data.target_names"
   ]
  },
  {
   "cell_type": "code",
   "execution_count": 14,
   "metadata": {},
   "outputs": [],
   "source": [
    "X_train, X_test, y_train, y_test = model_selection.train_test_split(news_data.data, news_data.target, test_size=0.33)"
   ]
  },
  {
   "cell_type": "code",
   "execution_count": 15,
   "metadata": {},
   "outputs": [],
   "source": [
    "model = pipeline.Pipeline([\n",
    "    ('counts', feature_extraction.text.CountVectorizer(\n",
    "        tokenizer=nltk.word_tokenize,  # use the NLTK tokenizer\n",
    "        min_df=2,  # minimum document frequency, i.e. the word must appear more than once.\n",
    "        ngram_range=(1, 2),\n",
    "        stop_words=stop_words\n",
    "    )),\n",
    "    ('tfidf', feature_extraction.text.TfidfTransformer()),\n",
    "    #('naivebayes', naive_bayes.MultinomialNB()),\n",
    "    ('svm', svm.LinearSVC()), # much better than NB\n",
    "])"
   ]
  },
  {
   "cell_type": "code",
   "execution_count": 16,
   "metadata": {},
   "outputs": [],
   "source": [
    "model.fit(X_train, y_train)\n",
    "y_pred = model.predict(X_test)"
   ]
  },
  {
   "cell_type": "markdown",
   "metadata": {},
   "source": [
    "Visualizing with Pandas"
   ]
  },
  {
   "cell_type": "code",
   "execution_count": 17,
   "metadata": {},
   "outputs": [
    {
     "data": {
      "text/html": [
       "<div>\n",
       "<style scoped>\n",
       "    .dataframe tbody tr th:only-of-type {\n",
       "        vertical-align: middle;\n",
       "    }\n",
       "\n",
       "    .dataframe tbody tr th {\n",
       "        vertical-align: top;\n",
       "    }\n",
       "\n",
       "    .dataframe thead th {\n",
       "        text-align: right;\n",
       "    }\n",
       "</style>\n",
       "<table border=\"1\" class=\"dataframe\">\n",
       "  <thead>\n",
       "    <tr style=\"text-align: right;\">\n",
       "      <th></th>\n",
       "      <th>pred</th>\n",
       "      <th>test</th>\n",
       "      <th>same</th>\n",
       "    </tr>\n",
       "  </thead>\n",
       "  <tbody>\n",
       "    <tr>\n",
       "      <th>0</th>\n",
       "      <td>17</td>\n",
       "      <td>17</td>\n",
       "      <td>True</td>\n",
       "    </tr>\n",
       "    <tr>\n",
       "      <th>1</th>\n",
       "      <td>18</td>\n",
       "      <td>18</td>\n",
       "      <td>True</td>\n",
       "    </tr>\n",
       "    <tr>\n",
       "      <th>2</th>\n",
       "      <td>18</td>\n",
       "      <td>16</td>\n",
       "      <td>False</td>\n",
       "    </tr>\n",
       "    <tr>\n",
       "      <th>3</th>\n",
       "      <td>10</td>\n",
       "      <td>10</td>\n",
       "      <td>True</td>\n",
       "    </tr>\n",
       "    <tr>\n",
       "      <th>4</th>\n",
       "      <td>13</td>\n",
       "      <td>13</td>\n",
       "      <td>True</td>\n",
       "    </tr>\n",
       "    <tr>\n",
       "      <th>5</th>\n",
       "      <td>6</td>\n",
       "      <td>6</td>\n",
       "      <td>True</td>\n",
       "    </tr>\n",
       "    <tr>\n",
       "      <th>6</th>\n",
       "      <td>11</td>\n",
       "      <td>11</td>\n",
       "      <td>True</td>\n",
       "    </tr>\n",
       "    <tr>\n",
       "      <th>7</th>\n",
       "      <td>4</td>\n",
       "      <td>4</td>\n",
       "      <td>True</td>\n",
       "    </tr>\n",
       "    <tr>\n",
       "      <th>8</th>\n",
       "      <td>1</td>\n",
       "      <td>1</td>\n",
       "      <td>True</td>\n",
       "    </tr>\n",
       "    <tr>\n",
       "      <th>9</th>\n",
       "      <td>6</td>\n",
       "      <td>6</td>\n",
       "      <td>True</td>\n",
       "    </tr>\n",
       "    <tr>\n",
       "      <th>10</th>\n",
       "      <td>19</td>\n",
       "      <td>19</td>\n",
       "      <td>True</td>\n",
       "    </tr>\n",
       "    <tr>\n",
       "      <th>11</th>\n",
       "      <td>13</td>\n",
       "      <td>13</td>\n",
       "      <td>True</td>\n",
       "    </tr>\n",
       "    <tr>\n",
       "      <th>12</th>\n",
       "      <td>5</td>\n",
       "      <td>5</td>\n",
       "      <td>True</td>\n",
       "    </tr>\n",
       "    <tr>\n",
       "      <th>13</th>\n",
       "      <td>12</td>\n",
       "      <td>12</td>\n",
       "      <td>True</td>\n",
       "    </tr>\n",
       "    <tr>\n",
       "      <th>14</th>\n",
       "      <td>1</td>\n",
       "      <td>1</td>\n",
       "      <td>True</td>\n",
       "    </tr>\n",
       "    <tr>\n",
       "      <th>15</th>\n",
       "      <td>8</td>\n",
       "      <td>8</td>\n",
       "      <td>True</td>\n",
       "    </tr>\n",
       "    <tr>\n",
       "      <th>16</th>\n",
       "      <td>0</td>\n",
       "      <td>0</td>\n",
       "      <td>True</td>\n",
       "    </tr>\n",
       "    <tr>\n",
       "      <th>17</th>\n",
       "      <td>8</td>\n",
       "      <td>8</td>\n",
       "      <td>True</td>\n",
       "    </tr>\n",
       "    <tr>\n",
       "      <th>18</th>\n",
       "      <td>13</td>\n",
       "      <td>13</td>\n",
       "      <td>True</td>\n",
       "    </tr>\n",
       "    <tr>\n",
       "      <th>19</th>\n",
       "      <td>1</td>\n",
       "      <td>1</td>\n",
       "      <td>True</td>\n",
       "    </tr>\n",
       "  </tbody>\n",
       "</table>\n",
       "</div>"
      ],
      "text/plain": [
       "    pred  test   same\n",
       "0     17    17   True\n",
       "1     18    18   True\n",
       "2     18    16  False\n",
       "3     10    10   True\n",
       "4     13    13   True\n",
       "5      6     6   True\n",
       "6     11    11   True\n",
       "7      4     4   True\n",
       "8      1     1   True\n",
       "9      6     6   True\n",
       "10    19    19   True\n",
       "11    13    13   True\n",
       "12     5     5   True\n",
       "13    12    12   True\n",
       "14     1     1   True\n",
       "15     8     8   True\n",
       "16     0     0   True\n",
       "17     8     8   True\n",
       "18    13    13   True\n",
       "19     1     1   True"
      ]
     },
     "execution_count": 17,
     "metadata": {},
     "output_type": "execute_result"
    }
   ],
   "source": [
    "import pandas as pd\n",
    "df = pd.DataFrame({\"pred\": y_pred, \"test\": y_test})\n",
    "df[\"same\"] = df[\"pred\"] == df[\"test\"]\n",
    "df[:20]"
   ]
  },
  {
   "cell_type": "markdown",
   "metadata": {},
   "source": [
    "Comparing with NumPy"
   ]
  },
  {
   "cell_type": "code",
   "execution_count": 18,
   "metadata": {},
   "outputs": [
    {
     "data": {
      "text/plain": [
       "0.9418181818181818"
      ]
     },
     "execution_count": 18,
     "metadata": {},
     "output_type": "execute_result"
    }
   ],
   "source": [
    "import numpy as np\n",
    "np.mean(y_pred == y_test)"
   ]
  },
  {
   "cell_type": "code",
   "execution_count": 19,
   "metadata": {},
   "outputs": [
    {
     "name": "stdout",
     "output_type": "stream",
     "text": [
      "                          precision    recall  f1-score   support\n",
      "\n",
      "             alt.atheism       0.78      0.81      0.80       305\n",
      "           comp.graphics       0.96      0.97      0.96       321\n",
      " comp.os.ms-windows.misc       0.95      0.97      0.96       307\n",
      "comp.sys.ibm.pc.hardware       0.97      0.97      0.97       332\n",
      "   comp.sys.mac.hardware       0.99      0.97      0.98       341\n",
      "          comp.windows.x       0.98      0.98      0.98       344\n",
      "            misc.forsale       0.97      0.97      0.97       357\n",
      "               rec.autos       0.99      0.99      0.99       336\n",
      "         rec.motorcycles       0.98      0.99      0.99       328\n",
      "      rec.sport.baseball       1.00      1.00      1.00       311\n",
      "        rec.sport.hockey       1.00      0.99      1.00       343\n",
      "               sci.crypt       1.00      0.99      0.99       349\n",
      "         sci.electronics       0.97      0.97      0.97       333\n",
      "                 sci.med       0.98      0.98      0.98       333\n",
      "               sci.space       1.00      0.99      0.99       336\n",
      "  soc.religion.christian       1.00      0.99      1.00       315\n",
      "      talk.politics.guns       0.93      0.89      0.91       352\n",
      "   talk.politics.mideast       0.92      0.96      0.94       308\n",
      "      talk.politics.misc       0.79      0.77      0.78       318\n",
      "      talk.religion.misc       0.65      0.66      0.65       331\n",
      "\n",
      "                accuracy                           0.94      6600\n",
      "               macro avg       0.94      0.94      0.94      6600\n",
      "            weighted avg       0.94      0.94      0.94      6600\n",
      "\n"
     ]
    }
   ],
   "source": [
    "tsv = metrics.classification_report(y_test, y_pred, target_names=news_data.target_names)\n",
    "print(tsv)"
   ]
  },
  {
   "cell_type": "markdown",
   "metadata": {},
   "source": [
    "With GridSearch it's possible to find the parameters that throw the best accuracy, in this case with 2 possible values of ```ngram_range``` in 'counts' and 2 possible values of ```alpha``` in 'naivebayes'"
   ]
  },
  {
   "cell_type": "code",
   "execution_count": null,
   "metadata": {},
   "outputs": [],
   "source": [
    "grid_search_model = model_selection.GridSearchCV(\n",
    "    model,\n",
    "    {\n",
    "        'counts__ngram_range': [(1, 1), (1, 2)],\n",
    "        'naivebayes__alpha': (0.1, 3.0)\n",
    "    },\n",
    "    n_jobs=-1  # detects how many cores are installed in the machine and uses them all\n",
    ")\n",
    "grid_search_model.fit(X_train, y_train)"
   ]
  },
  {
   "cell_type": "code",
   "execution_count": null,
   "metadata": {},
   "outputs": [],
   "source": [
    "print(grid_search_model.cv_results_)"
   ]
  }
 ],
 "metadata": {
  "kernelspec": {
   "display_name": "Python 3",
   "language": "python",
   "name": "python3"
  },
  "language_info": {
   "codemirror_mode": {
    "name": "ipython",
    "version": 3
   },
   "file_extension": ".py",
   "mimetype": "text/x-python",
   "name": "python",
   "nbconvert_exporter": "python",
   "pygments_lexer": "ipython3",
   "version": "3.7.3"
  }
 },
 "nbformat": 4,
 "nbformat_minor": 2
}
