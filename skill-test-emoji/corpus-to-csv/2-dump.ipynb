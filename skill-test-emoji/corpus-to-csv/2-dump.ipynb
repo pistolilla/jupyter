{
 "cells": [
  {
   "cell_type": "markdown",
   "metadata": {},
   "source": [
    "(continuation from [Task 1](1-ingestion.ipynb))\n",
    "#### Task 2. Dump the data in a spreadsheet\n",
    "Importing libraries and defining constants"
   ]
  },
  {
   "cell_type": "code",
   "execution_count": 1,
   "metadata": {},
   "outputs": [],
   "source": [
    "import sqlite3\n",
    "DB_FILE = 'task-2.db'"
   ]
  },
  {
   "cell_type": "markdown",
   "metadata": {},
   "source": [
    "Defining a general function to read from database"
   ]
  },
  {
   "cell_type": "code",
   "execution_count": 2,
   "metadata": {},
   "outputs": [],
   "source": [
    "def dbQuery(sql):\n",
    "    conn = sqlite3.connect(DB_FILE)\n",
    "    for row in conn.execute(sql):\n",
    "        yield row\n",
    "    conn.close()"
   ]
  },
  {
   "cell_type": "markdown",
   "metadata": {},
   "source": [
    "### Topics\n",
    "The corpus is distributed into 10 topics as follows"
   ]
  },
  {
   "cell_type": "code",
   "execution_count": 3,
   "metadata": {},
   "outputs": [
    {
     "data": {
      "text/plain": [
       "[[1, 1, 'The kitchen stinks.', 1, 3, 2],\n",
       " [2, 1, 'So Dick, how about getting some coffee for tonight?', 1, 3, 4],\n",
       " [3, 1, 'Are things still going badly with your houseguest?', 1, 2, 0],\n",
       " [4, 1, 'Would you mind waiting a while?', 1, 3, 0],\n",
       " [5,\n",
       "  1,\n",
       "  'Are you going to the annual party? I can give you a ride if you need one.',\n",
       "  1,\n",
       "  3,\n",
       "  0],\n",
       " [6,\n",
       "  1,\n",
       "  \"Isn't he the best instructor? I think he's so hot. Wow! I really feel energized, don't you?\",\n",
       "  1,\n",
       "  2,\n",
       "  4],\n",
       " [7,\n",
       "  1,\n",
       "  'Can I take your order now or do you still want to look at the menu?',\n",
       "  1,\n",
       "  2,\n",
       "  0],\n",
       " [8, 1, 'Can you manage chopsticks?', 1, 2, 0],\n",
       " [9, 1, \"I'm exhausted.\", 1, 3, 0],\n",
       " [10,\n",
       "  1,\n",
       "  \"Good evening. Welcome to Cherry's. Do you have a reservation?\",\n",
       "  1,\n",
       "  2,\n",
       "  0],\n",
       " [11, 1, 'What kind of food do you like?', 1, 2, 0],\n",
       " [12, 1, 'Would you like to take a look at the menu, sir?', 1, 3, 0],\n",
       " [13, 1, 'Can I help you sir, what do you need?', 1, 2, 0],\n",
       " [14, 1, 'Could I have my bill, please?', 1, 3, 0],\n",
       " [15, 1, 'May I sit here?', 1, 3, 0],\n",
       " [16, 1, 'Is everything to your satisfaction?', 1, 2, 0],\n",
       " [17,\n",
       "  1,\n",
       "  \"I'm looking for a white purse as a gift. Could you show what you have in stock?\",\n",
       "  1,\n",
       "  2,\n",
       "  0],\n",
       " [18, 1, \"Dahua's Market. How can I help you?\", 1, 2, 0],\n",
       " [19, 1, \"Farmer's Pet Store.\", 1, 1, 0],\n",
       " [20, 1, 'May I help you find something, sir?', 1, 2, 0],\n",
       " [21, 1, 'Would you like a lift home?', 1, 3, 0],\n",
       " [22, 1, \"Mike's Mechanics. Can I help you?\", 1, 2, 0],\n",
       " [23,\n",
       "  1,\n",
       "  'I think I going to need some iced water too. Is there an extra charge for that?',\n",
       "  1,\n",
       "  2,\n",
       "  0],\n",
       " [24,\n",
       "  1,\n",
       "  \"I'm looking for some blush. Do you still have some in peach rose?\",\n",
       "  1,\n",
       "  2,\n",
       "  0],\n",
       " [25, 1, 'Golden Taxi cabs, how may I help you?', 1, 2, 0],\n",
       " [26, 1, \"OK, I'm sorry it took so long.\", 1, 1, 0],\n",
       " [27, 1, 'Hello, I need to get a cab.', 1, 3, 0],\n",
       " [28, 1, 'Is Tom available please?', 1, 2, 0],\n",
       " [29, 1, \"Hi Bill, it's Jane.\", 1, 1, 0],\n",
       " [30, 1, 'Is Tom here?', 1, 2, 0],\n",
       " [31, 1, \"Looks like dinner's ready.\", 1, 1, 0],\n",
       " [32, 1, 'May I try on this dress?', 1, 3, 0],\n",
       " [33, 1, 'I made my little brother cry.', 1, 1, 0],\n",
       " [34, 1, 'Can I have the check please?', 1, 3, 0],\n",
       " [35, 1, 'Are you through with your meal?', 1, 2, 0],\n",
       " [36,\n",
       "  1,\n",
       "  \"I'm looking for some black pumps to go with my evening gown. Could you show me what you have?\",\n",
       "  1,\n",
       "  3,\n",
       "  0],\n",
       " [37, 1, 'Are you OK?', 1, 2, 0],\n",
       " [38, 1, 'Did anyone call?', 1, 2, 0],\n",
       " [39, 1, 'Could I have the check, please?', 1, 3, 0],\n",
       " [40, 1, 'Any phone calls for me while I was out?', 1, 2, 0],\n",
       " [41, 1, 'Hello, may I help you?', 1, 2, 0],\n",
       " [42, 1, 'May I help you?', 1, 2, 0],\n",
       " [43, 1, \"I'm sorry. Is that bicycle yours?\", 1, 2, 0],\n",
       " [44, 1, 'How are we going to get there?', 1, 2, 0],\n",
       " [45, 1, 'Hi, sorry to have kept you waiting.', 1, 1, 0],\n",
       " [46, 1, \"Andrew's Hair Salon, this is Andrew.\", 1, 1, 0],\n",
       " [47, 1, \"I'm getting a tattoo tomorrow.\", 1, 1, 0],\n",
       " [48, 1, 'My mother bought me a new video game.', 1, 1, 0],\n",
       " [49, 1, \"I played the video game at Mike's home yesterday.\", 1, 1, 0],\n",
       " [50, 1, 'Mrs. Sue?', 1, 2, 0],\n",
       " [51, 1, 'I lost my wallet.', 1, 1, 0],\n",
       " [52, 1, 'Mr. Zhang, are you still there?', 1, 2, 0],\n",
       " [53, 1, \"I'm going to the pub tonight.\", 1, 1, 0],\n",
       " [54, 1, \"I'm sorry I'm late.\", 1, 1, 5],\n",
       " [55, 1, 'Hi! This is John Li, is my car fixed yet?', 1, 2, 0],\n",
       " [56, 1, 'Hi! This is Tome Smith.', 1, 1, 0],\n",
       " [57,\n",
       "  1,\n",
       "  \"This skirt is too tight. I would like to return it please. Do I need to go to the customer's service desk?\",\n",
       "  1,\n",
       "  2,\n",
       "  0],\n",
       " [58, 1, 'Nani Book Store. How can I help you?', 1, 2, 0],\n",
       " [59, 1, 'Would you ring these up for me here?', 1, 3, 0],\n",
       " [60, 1, \"Benter's Books.\", 1, 1, 0],\n",
       " [61,\n",
       "  1,\n",
       "  \"I'm a little rushed. Is there any quicker way to get there?\",\n",
       "  1,\n",
       "  2,\n",
       "  0],\n",
       " [62,\n",
       "  1,\n",
       "  'Excuse me.Could you please tell me where the train station is?',\n",
       "  1,\n",
       "  3,\n",
       "  0],\n",
       " [63, 1, \"Diana's Flowers, Diana Lin's office, may I help you?\", 1, 2, 0],\n",
       " [64, 1, \"What's for lunch?\", 1, 2, 0],\n",
       " [65,\n",
       "  1,\n",
       "  'Could you have a taxi pick me up and take me to the airport before 1 p. m.?',\n",
       "  1,\n",
       "  3,\n",
       "  0],\n",
       " [66, 1, 'Do you think you can fix my computer?', 1, 2, 0],\n",
       " [67, 1, 'Ah, Oh! Are you hurt?', 1, 2, 0],\n",
       " [68, 1, 'Taxi!', 1, 3, 0],\n",
       " [69, 1, 'Hello, is Sue there?', 1, 2, 0],\n",
       " [70, 1, 'I passed all the tests, Mom.', 1, 1, 4],\n",
       " [71, 1, 'May I please speak to Robert?', 1, 3, 0],\n",
       " [72, 1, 'Is Tom in?', 1, 2, 0],\n",
       " [73, 1, \"Let's eat out.\", 1, 3, 0],\n",
       " [74, 1, 'May we see the wine list please?', 1, 3, 0],\n",
       " [75, 1, 'Help! Help!', 1, 1, 0],\n",
       " [76, 1, 'Hello, is John in?', 1, 2, 0],\n",
       " [77, 1, \"That's two for me and one for you.\", 1, 1, 0],\n",
       " [78, 1, 'May I please speak to Tom?', 1, 3, 0],\n",
       " [79, 1, 'Hello, is John in?', 1, 2, 0],\n",
       " [80, 1, \"I can't finish this steak.\", 1, 1, 0],\n",
       " [81, 1, 'Dad, how can we get to the zoo?', 1, 2, 0],\n",
       " [82, 1, \"I'm trying to reach Robert please.\", 1, 3, 0],\n",
       " [83, 1, \"I can't find my keys.\", 1, 1, 0],\n",
       " [84, 1, 'Can you connect me to Mary. Smith Hotel room?', 1, 3, 0],\n",
       " [85, 1, 'May I please speak to Tom?', 1, 2, 0],\n",
       " [86, 1, \"What's the best way downtown?\", 1, 2, 0],\n",
       " [87, 1, 'This is how you turn on the computer.', 1, 1, 0],\n",
       " [88, 1, 'May I speak to Marry Lin please?', 1, 3, 0],\n",
       " [89, 1, \"Let's go!\", 1, 3, 0],\n",
       " [90, 1, \"I'd like to talk to Mr. White please?\", 1, 3, 0],\n",
       " [91, 1, 'You stepped on my foot!', 1, 1, 0],\n",
       " [92, 1, 'Somebody, please answer the phone.', 1, 3, 0],\n",
       " [93, 1, 'Is Tom in?', 1, 2, 0],\n",
       " [94, 1, 'Do you mind if I smoke?', 1, 2, 0],\n",
       " [95, 1, 'Where are you going?', 1, 2, 0],\n",
       " [96,\n",
       "  1,\n",
       "  \"Jessie, I'm afraid I can't come back home for dinner tonight.\",\n",
       "  1,\n",
       "  1,\n",
       "  0],\n",
       " [97, 1, 'I hate doing the damn laundry.', 1, 1, 1],\n",
       " [98, 1, \"Sam, you'Ve got to forgive me.\", 1, 3, 0],\n",
       " [99, 1, 'It looks to be a nice day today.', 1, 1, 0],\n",
       " [100, 1, 'Jim, could you do me a favor?', 1, 3, 0]]"
      ]
     },
     "execution_count": 3,
     "metadata": {},
     "output_type": "execute_result"
    }
   ],
   "source": [
    "sql = '''\n",
    "SELECT u.cId, u.uId, Utterance, topicId, actId, emotionId\n",
    "FROM utterance AS u\n",
    "INNER JOIN conversation_topic AS c ON (u.cId = c.cId AND u.uId = c.uId)\n",
    "INNER JOIN utterance_act AS a ON (u.cId = a.cId AND u.uId = a.uId)\n",
    "INNER JOIN utterance_emotion AS e ON (u.cId = e.cId AND u.uId = e.uId)\n",
    "LIMIT 100\n",
    "'''\n",
    "l = [list(x) for x in dbQuery(sql)]\n",
    "l"
   ]
  },
  {
   "cell_type": "markdown",
   "metadata": {},
   "source": [
    "Dumping in output.csv"
   ]
  },
  {
   "cell_type": "code",
   "execution_count": 4,
   "metadata": {},
   "outputs": [],
   "source": [
    "import csv\n",
    "\n",
    "with open(\"output.csv\",\"w\",newline=\"\") as f:\n",
    "    cw = csv.writer(f)\n",
    "    cw.writerows(r+[\"\"] for r in l)"
   ]
  },
  {
   "cell_type": "markdown",
   "metadata": {},
   "source": [
    "Remove \"limit 100\""
   ]
  },
  {
   "cell_type": "code",
   "execution_count": null,
   "metadata": {},
   "outputs": [],
   "source": []
  }
 ],
 "metadata": {
  "kernelspec": {
   "display_name": "Python 3",
   "language": "python",
   "name": "python3"
  },
  "language_info": {
   "codemirror_mode": {
    "name": "ipython",
    "version": 3
   },
   "file_extension": ".py",
   "mimetype": "text/x-python",
   "name": "python",
   "nbconvert_exporter": "python",
   "pygments_lexer": "ipython3",
   "version": "3.7.3"
  }
 },
 "nbformat": 4,
 "nbformat_minor": 2
}
