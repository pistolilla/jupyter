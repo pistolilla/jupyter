{
 "cells": [
  {
   "cell_type": "markdown",
   "metadata": {},
   "source": [
    "## SPARQL Wrapper Sample code"
   ]
  },
  {
   "cell_type": "markdown",
   "metadata": {},
   "source": [
    "Installation and importing"
   ]
  },
  {
   "cell_type": "code",
   "execution_count": 8,
   "metadata": {},
   "outputs": [],
   "source": [
    "# pip install sparqlwrapper\n",
    "# https://rdflib.github.io/sparqlwrapper/\n",
    "from SPARQLWrapper import SPARQLWrapper, JSON"
   ]
  },
  {
   "cell_type": "markdown",
   "metadata": {},
   "source": [
    "Init and functions"
   ]
  },
  {
   "cell_type": "code",
   "execution_count": 9,
   "metadata": {},
   "outputs": [],
   "source": [
    "endpoint_url = \"https://query.wikidata.org/sparql\"\n",
    "\n",
    "def get_results(endpoint_url, query):\n",
    "    sparql = SPARQLWrapper(endpoint_url)\n",
    "    sparql.setQuery(query)\n",
    "    sparql.setReturnFormat(JSON)\n",
    "    return sparql.query().convert()"
   ]
  },
  {
   "cell_type": "code",
   "execution_count": 10,
   "metadata": {},
   "outputs": [
    {
     "name": "stdout",
     "output_type": "stream",
     "text": [
      "{'entity': {'type': 'uri', 'value': 'http://www.wikidata.org/entity/Q3249878'}, 'wikipediaUrl': {'type': 'uri', 'value': 'https://en.wikipedia.org/wiki/Like'}, 'language': {'datatype': 'http://www.w3.org/2001/XMLSchema#string', 'type': 'literal', 'value': 'en'}}\n",
      "{'entity': {'type': 'uri', 'value': 'http://www.wikidata.org/entity/Q3249878'}, 'wikipediaUrl': {'type': 'uri', 'value': 'https://simple.wikipedia.org/wiki/Like'}, 'language': {'datatype': 'http://www.w3.org/2001/XMLSchema#string', 'type': 'literal', 'value': 'en-simple'}}\n",
      "{'entity': {'type': 'uri', 'value': 'http://www.wikidata.org/entity/Q3249878'}, 'wikipediaUrl': {'type': 'uri', 'value': 'https://th.wikipedia.org/wiki/%E0%B8%8A%E0%B8%AD%E0%B8%9A'}, 'language': {'datatype': 'http://www.w3.org/2001/XMLSchema#string', 'type': 'literal', 'value': 'th'}}\n"
     ]
    }
   ],
   "source": [
    "query = \"\"\"SELECT ?entity ?wikipediaUrl ?language WHERE {\n",
    "    BIND (wd:Q3249878 AS ?entity)\n",
    "    ?wikipediaUrl schema:about ?entity .\n",
    "    ?wikipediaUrl schema:inLanguage ?language .\n",
    "} \"\"\"\n",
    "\n",
    "results = get_results(endpoint_url, query)\n",
    "\n",
    "for result in results[\"results\"][\"bindings\"]:\n",
    "    print(result)"
   ]
  },
  {
   "cell_type": "code",
   "execution_count": null,
   "metadata": {},
   "outputs": [],
   "source": []
  }
 ],
 "metadata": {
  "kernelspec": {
   "display_name": "Python 3",
   "language": "python",
   "name": "python3"
  },
  "language_info": {
   "codemirror_mode": {
    "name": "ipython",
    "version": 3
   },
   "file_extension": ".py",
   "mimetype": "text/x-python",
   "name": "python",
   "nbconvert_exporter": "python",
   "pygments_lexer": "ipython3",
   "version": "3.7.3"
  }
 },
 "nbformat": 4,
 "nbformat_minor": 2
}
