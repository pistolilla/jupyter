{
 "cells": [
  {
   "cell_type": "markdown",
   "metadata": {},
   "source": [
    "(continuation from [Task 1](1-ingestion.ipynb))\n",
    "#### Task 2. Analyze the raw data and describe it, in any way that is relevant and informative for the problem at hand.\n",
    "Importing libraries and defining constants"
   ]
  },
  {
   "cell_type": "code",
   "execution_count": null,
   "metadata": {},
   "outputs": [],
   "source": [
    "import sqlite3\n",
    "DB_FILE = 'task-2.db'"
   ]
  },
  {
   "cell_type": "markdown",
   "metadata": {},
   "source": [
    "Defining a general function to read from database"
   ]
  },
  {
   "cell_type": "code",
   "execution_count": null,
   "metadata": {},
   "outputs": [],
   "source": [
    "def dbQuery(sql):\n",
    "    conn = sqlite3.connect(DB_FILE)\n",
    "    for row in conn.execute(sql):\n",
    "        yield row\n",
    "    conn.close()"
   ]
  },
  {
   "cell_type": "markdown",
   "metadata": {},
   "source": [
    "### Topics\n",
    "The corpus is distributed into 10 topics as follows"
   ]
  },
  {
   "cell_type": "code",
   "execution_count": null,
   "metadata": {},
   "outputs": [],
   "source": [
    "sql = '''\n",
    "SELECT 'topic-' || topicId, c, ROUND(c * 100.0 /total, 2) || '%' FROM (\n",
    " SELECT topicId, COUNT(*) AS c,\n",
    "  (SELECT COUNT(*) FROM conversation_topic) AS total\n",
    " FROM conversation_topic\n",
    " GROUP BY topicId\n",
    ")\n",
    "ORDER BY c DESC\n",
    "'''\n",
    "[x for x in dbQuery(sql)]"
   ]
  },
  {
   "cell_type": "markdown",
   "metadata": {},
   "source": [
    "Taking random conversation of each topic we can infer what are they about (**change the value to explore**)"
   ]
  },
  {
   "cell_type": "code",
   "execution_count": null,
   "metadata": {
    "scrolled": true
   },
   "outputs": [],
   "source": [
    "topicId = 8 # Change the value to explore\n",
    "\n",
    "sql = '''\n",
    "SELECT GROUP_CONCAT(Utterance, ' -')\n",
    "FROM utterance \n",
    "WHERE cId IN (\n",
    " SELECT cId FROM conversation_topic WHERE topicId = {}\n",
    " ORDER BY RANDOM()\n",
    " LIMIT 2\n",
    ")\n",
    "GROUP BY cId\n",
    "'''.format(topicId)\n",
    "for x in dbQuery(sql): print('{}\\n'.format(x[0]))"
   ]
  },
  {
   "cell_type": "code",
   "execution_count": null,
   "metadata": {},
   "outputs": [],
   "source": []
  },
  {
   "cell_type": "markdown",
   "metadata": {},
   "source": [
    "### Acts\n",
    "There are 4 different [dialog acts](https://en.wikipedia.org/wiki/Dialog_act) distributed as follows"
   ]
  },
  {
   "cell_type": "code",
   "execution_count": null,
   "metadata": {},
   "outputs": [],
   "source": [
    "sql = '''\n",
    "SELECT 'act-' || actId, c, ROUND(c * 100.0 / total, 2) || '%'\n",
    "FROM (\n",
    " SELECT actId, COUNT(*) AS c, (SELECT COUNT(*) FROM utterance) AS total\n",
    " FROM utterance_act\n",
    " GROUP BY actId\n",
    ")\n",
    "ORDER BY c DESC\n",
    "'''\n",
    "[x for x in dbQuery(sql)]"
   ]
  },
  {
   "cell_type": "markdown",
   "metadata": {},
   "source": [
    "Theorically speaking dialog acts are conditioned by their previous act, so for example an initial act is very unlikely to be *act-4*"
   ]
  },
  {
   "cell_type": "code",
   "execution_count": null,
   "metadata": {},
   "outputs": [],
   "source": [
    "sql = '''\n",
    "SELECT 'act-' || actId, COUNT(*) AS c \n",
    "FROM utterance_act WHERE uId = 1\n",
    "GROUP BY actId\n",
    "ORDER BY c\n",
    "'''\n",
    "[x for x in dbQuery(sql)]"
   ]
  },
  {
   "cell_type": "markdown",
   "metadata": {},
   "source": [
    "There are only a few cases with *act-4*. Let's look at them closely"
   ]
  },
  {
   "cell_type": "code",
   "execution_count": null,
   "metadata": {},
   "outputs": [],
   "source": [
    "sql = '''\n",
    "SELECT Utterance\n",
    "FROM utterance_act AS a\n",
    " INNER JOIN utterance AS u ON (u.cId = a.cId AND u.uId = a.uId)\n",
    "WHERE actId = 4 AND a.uId = 1\n",
    "'''\n",
    "[x[0] for x in dbQuery(sql)]"
   ]
  },
  {
   "cell_type": "markdown",
   "metadata": {},
   "source": [
    "**Intuition**: *Conversations may ocurr in broader contexts not contained in these dialogs. Like a bus arriving the station or other acts (or omitted acts) between the participants.*\n",
    "\n",
    "Now if *act-4* is highly dependent of previous acts, which are these inside the corpus? How likely are they to elicit an *act-4*?"
   ]
  },
  {
   "cell_type": "code",
   "execution_count": null,
   "metadata": {},
   "outputs": [],
   "source": [
    "sql = '''\n",
    "SELECT actId, COUNT(*) AS c\n",
    "FROM utterance_act\n",
    "WHERE (cId, uId) IN (\n",
    " SELECT cId, (uId - 1) AS uId\n",
    " FROM utterance_act\n",
    " WHERE uId > 1 AND actId = 4\n",
    ")\n",
    "GROUP BY actId\n",
    "ORDER BY c DESC\n",
    "'''\n",
    "[x for x in dbQuery(sql)]"
   ]
  },
  {
   "cell_type": "markdown",
   "metadata": {},
   "source": [
    "**Intuition**: *Preponderantly, act-3 (which presumably is a YES-NO-QUESTION) preceeds act-4, and therefore their ocurrance at the end of the conversation should be rather low* \n",
    "\n",
    "But moreover, are these question also identifiable by punctuation marks, or what other forms they have? Let's look at this:"
   ]
  },
  {
   "cell_type": "code",
   "execution_count": null,
   "metadata": {},
   "outputs": [],
   "source": [
    "sql = '''\n",
    "SELECT (CASE WHEN Utterance LIKE '%?%' THEN 'marked' ELSE 'unmarked' END) AS Class, COUNT(Utterance)\n",
    "FROM utterance_act AS a\n",
    " INNER JOIN utterance AS u ON (u.cId = a.cId AND u.uId = a.uId)\n",
    "WHERE actId = 3\n",
    "GROUP BY Class\n",
    "'''\n",
    "[x for x in dbQuery(sql)]"
   ]
  },
  {
   "cell_type": "markdown",
   "metadata": {},
   "source": [
    "There are surprisingly more *unmarked* utterances! Let's take a closer look to some samples"
   ]
  },
  {
   "cell_type": "code",
   "execution_count": null,
   "metadata": {},
   "outputs": [],
   "source": [
    "sql = '''\n",
    "SELECT Utterance\n",
    "FROM utterance_act AS a\n",
    " INNER JOIN utterance AS u ON (u.cId = a.cId AND u.uId = a.uId)\n",
    "WHERE actId = 3 AND Utterance NOT LIKE '%?%'\n",
    "ORDER BY RANDOM()\n",
    "LIMIT 10\n",
    "'''\n",
    "[x[0] for x in dbQuery(sql)]"
   ]
  },
  {
   "cell_type": "markdown",
   "metadata": {},
   "source": [
    "**Intuition**: *Besides question marks, ther are other [discourse markers](https://en.wikipedia.org/wiki/Discourse_marker) that characterize act-3 like*:\n",
    "* I (might) need...\n",
    "* ...sure we can...\n",
    "* ...in that case...\n",
    "* Perhaps... \n",
    "* ...would be... if\n",
    "* ...will need to...\n",
    "* Don't...\n",
    "* Set your...\n",
    "* Let me...\n",
    "* Let's get you...\n",
    "* Tell me..\n",
    "\n",
    "As we dive in more cases, we can identify some utterances use imperatives while others rather insinuate commands or questions via *indirect speech*. It might be worth thinking on unfolding this into subtypes that characterize this long continuum."
   ]
  },
  {
   "cell_type": "markdown",
   "metadata": {},
   "source": [
    "### Emotions\n",
    "There are 6 distinct emotions and one *emotion-0* distributed as follows"
   ]
  },
  {
   "cell_type": "code",
   "execution_count": null,
   "metadata": {},
   "outputs": [],
   "source": [
    "sql = '''\n",
    "SELECT 'emotion-' || emotionId, c, ROUND(c * 100.0 / total, 2) || '%'\n",
    "FROM (\n",
    " SELECT emotionId, COUNT(*) AS c, (SELECT COUNT(*) FROM utterance) AS total\n",
    " FROM utterance_emotion\n",
    " GROUP BY emotionId\n",
    ")\n",
    "ORDER BY c DESC\n",
    "'''\n",
    "[x for x in dbQuery(sql)]"
   ]
  },
  {
   "cell_type": "markdown",
   "metadata": {},
   "source": [
    "Similarly to topics, we can explore random samples to grasp what are the emotions annotated in the corpus (**change the value to explore**)"
   ]
  },
  {
   "cell_type": "code",
   "execution_count": null,
   "metadata": {},
   "outputs": [],
   "source": [
    "emotionId = 6 # Change the value to explore\n",
    "\n",
    "sql = '''\n",
    "SELECT Utterance FROM utterance \n",
    "WHERE (cId, uId) IN (\n",
    " SELECT cId, uId FROM utterance_emotion\n",
    " WHERE emotionId = {}\n",
    " ORDER BY RANDOM()\n",
    " LIMIT 10\n",
    ")\n",
    "'''.format(emotionId)\n",
    "[x[0] for x in dbQuery(sql)]"
   ]
  },
  {
   "cell_type": "markdown",
   "metadata": {},
   "source": [
    "So we can state this is our set of emotions:\n",
    "0. (void)\n",
    "1. Disagreeement\n",
    "2. Disappointment \n",
    "3. Fear\n",
    "4. Agreement\n",
    "5. Apology\n",
    "6. Excitement\n",
    "\n",
    "Let's start explorin apologies(5). Can we assume they're **only** followed by utterances of agreement(4) or disagreement(1)?"
   ]
  },
  {
   "cell_type": "code",
   "execution_count": null,
   "metadata": {},
   "outputs": [],
   "source": [
    "sql = '''\n",
    "SELECT emotionId, COUNT(*) AS c\n",
    "FROM utterance_emotion\n",
    "WHERE (cId, uId) IN (\n",
    " SELECT cId, (uId + 1) AS uId\n",
    " FROM utterance_emotion\n",
    " WHERE emotionId = 5\n",
    ")\n",
    "GROUP BY emotionId\n",
    "HAVING emotionId != 0 -- discarding emotion-0\n",
    "ORDER BY c DESC\n",
    "'''\n",
    "[x for x in dbQuery(sql)]"
   ]
  },
  {
   "cell_type": "markdown",
   "metadata": {},
   "source": [
    "Apologies are mostly followed by any kind of emotion except disappointment(2) and fear(3). Also apologies are often followed by apologies.\n",
    "\n",
    "Now talking about excitement(6): Similarly to questions, are there any discourse markers for that we can identify (besides exclamation marks)?"
   ]
  },
  {
   "cell_type": "code",
   "execution_count": null,
   "metadata": {},
   "outputs": [],
   "source": [
    "sql = '''\n",
    "SELECT Utterance\n",
    "FROM utterance_emotion AS e\n",
    " INNER JOIN utterance AS u ON (u.cId = e.cId AND u.uId = e.uId)\n",
    "WHERE emotionId = 6 AND Utterance NOT LIKE '%!%'\n",
    "ORDER BY RANDOM()\n",
    "LIMIT 10\n",
    "'''\n",
    "[x[0] for x in dbQuery(sql)]"
   ]
  },
  {
   "cell_type": "markdown",
   "metadata": {},
   "source": [
    "**Intuition**: *As with YES-NO-QUESTIONs, there are plenty of markers (apart from exlamation marks) that characterize emotion-6 like*:\n",
    "* Oh\n",
    "* Oh, my\n",
    "* Oh, really\n",
    "* amazing\n",
    "* gorgeous\n",
    "* Look at this\n",
    "* ...crazy?\n",
    "* ...kidding?\n",
    "* Really?\n",
    "* Pardon?\n",
    "* ...serious?\n",
    "* Seriously?\n",
    "* So?\n",
    "* What?\n",
    "* Why is so...?\n",
    "\n",
    "### Mashups\n",
    "Further analysis can be made combining features. As noted in the last result, question marks are not only used to inquiry (act-3) but also as rethoric exclamations (emotion-6). Let's ponderate the ocurrence of this mark among these two"
   ]
  },
  {
   "cell_type": "code",
   "execution_count": null,
   "metadata": {},
   "outputs": [],
   "source": [
    "sql = '''\n",
    "-- questions\n",
    "SELECT 'act-' || actId, COUNT(*) AS c\n",
    "FROM utterance AS u\n",
    " INNER JOIN utterance_act AS a ON (a.cId = u.cId AND a.uId = u.uId)\n",
    " INNER JOIN utterance_emotion AS e ON (e.cId = u.cId AND e.uId = u.uId)\n",
    "WHERE Utterance LIKE '%?%' AND actId = 3 AND emotionId != 6\n",
    "GROUP BY actId\n",
    "-- excitement\n",
    "UNION\n",
    "SELECT 'emotion-' || emotionId, COUNT(*) AS c\n",
    "FROM utterance AS u\n",
    " INNER JOIN utterance_act AS a ON (a.cId = u.cId AND a.uId = u.uId)\n",
    " INNER JOIN utterance_emotion AS e ON (e.cId = u.cId AND e.uId = u.uId)\n",
    "WHERE Utterance LIKE '%?%' AND actId != 3 AND emotionId = 6\n",
    "GROUP BY emotionId\n",
    "-- both\n",
    "UNION\n",
    "SELECT 'both', COUNT(*) AS c\n",
    "FROM utterance AS u\n",
    " INNER JOIN utterance_act AS a ON (a.cId = u.cId AND a.uId = u.uId)\n",
    " INNER JOIN utterance_emotion AS e ON (e.cId = u.cId AND e.uId = u.uId)\n",
    "WHERE Utterance LIKE '%?%' AND actId = 3 AND emotionId = 6\n",
    "ORDER BY c DESC\n",
    "'''\n",
    "[x for x in dbQuery(sql)]"
   ]
  },
  {
   "cell_type": "markdown",
   "metadata": {},
   "source": [
    "Although question marks are very likely to denote a question, they are also used fairly on the context of exclamation or suprise (but very rarely they combine the two).\n",
    "### Further Analysis\n",
    "As you may concluded, there are infinite ways to explore this data and discover patterns for the study of dual conversations. Feel free to run your own queries here:"
   ]
  },
  {
   "cell_type": "code",
   "execution_count": null,
   "metadata": {},
   "outputs": [],
   "source": [
    "sql = '''\n",
    "SELECT 'your query here'\n",
    "'''\n",
    "[x for x in dbQuery(sql)]"
   ]
  },
  {
   "cell_type": "code",
   "execution_count": null,
   "metadata": {},
   "outputs": [],
   "source": []
  }
 ],
 "metadata": {
  "kernelspec": {
   "display_name": "Python 3",
   "language": "python",
   "name": "python3"
  },
  "language_info": {
   "codemirror_mode": {
    "name": "ipython",
    "version": 3
   },
   "file_extension": ".py",
   "mimetype": "text/x-python",
   "name": "python",
   "nbconvert_exporter": "python",
   "pygments_lexer": "ipython3",
   "version": "3.7.3"
  }
 },
 "nbformat": 4,
 "nbformat_minor": 2
}
